{
  "nbformat": 4,
  "nbformat_minor": 0,
  "metadata": {
    "colab": {
      "provenance": []
    },
    "kernelspec": {
      "name": "python3",
      "display_name": "Python 3"
    },
    "language_info": {
      "name": "python"
    }
  },
  "cells": [
    {
      "cell_type": "code",
      "execution_count": 22,
      "metadata": {
        "colab": {
          "base_uri": "https://localhost:8080/"
        },
        "id": "YRDx6HFKxW51",
        "outputId": "4d5415e0-245c-4ea8-d154-db0132c247f7"
      },
      "outputs": [
        {
          "output_type": "stream",
          "name": "stdout",
          "text": [
            "              business_id        date               review_id  stars  \\\n",
            "0  9yKzy9PApeiPPOUJEtnvkg  2011-01-26  fWKvX83p0-ka4JS3dc6E5A      5   \n",
            "1  ZRJwVLyzEJq1VAihDhYiow  2011-07-27  IjZ33sJrzXqU-0X6U8NwyA      5   \n",
            "2  6oRAC4uyJCsJl1X0WZpVSA  2012-06-14  IESLBzqUCLdSzSqm0eCSxQ      4   \n",
            "3  _1QQZuf4zZOyFCvXc0o6Vg  2010-05-27  G-WvGaISbqqaMHlNnByodA      5   \n",
            "4  6ozycU1RpktNG2-1BroVtw  2012-01-05  1uJFq2r5QfJG_6ExMRCaGw      5   \n",
            "\n",
            "                                                text    type  \\\n",
            "0  My wife took me here on my birthday for breakf...  review   \n",
            "1  I have no idea why some people give bad review...  review   \n",
            "2  love the gyro plate. Rice is so good and I als...  review   \n",
            "3  Rosie, Dakota, and I LOVE Chaparral Dog Park!!...  review   \n",
            "4  General Manager Scott Petello is a good egg!!!...  review   \n",
            "\n",
            "                  user_id  cool  useful  funny  \n",
            "0  rLtl8ZkDX5vH5nAx9C3q5Q     2       5      0  \n",
            "1  0a2KyEL0d3Yb1V6aivbIuQ     0       0      0  \n",
            "2  0hT2KtfLiobPvh6cDC8JQg     0       1      0  \n",
            "3  uZetl9T0NcROGOyFfughhg     1       2      0  \n",
            "4  vYmM4KTsC8ZfQBg-j5MWkw     0       0      0  \n"
          ]
        }
      ],
      "source": [
        "import pandas as pd\n",
        "import numpy as np\n",
        "import re\n",
        "import joblib\n",
        "from sklearn.model_selection import train_test_split\n",
        "from sklearn.feature_extraction.text import TfidfVectorizer\n",
        "from sklearn.model_selection import train_test_split\n",
        "from sklearn.linear_model import LogisticRegression\n",
        "from sklearn.ensemble import RandomForestClassifier\n",
        "from sklearn.neural_network import MLPClassifier\n",
        "from sklearn.metrics import accuracy_score, recall_score, f1_score\n",
        "\n",
        "# Yelp Reviews Dataset užkrovimas\n",
        "df = pd.read_csv('yelp.csv')\n",
        "\n",
        "print(df.head())"
      ]
    },
    {
      "cell_type": "code",
      "source": [
        "# Nereikalingu duomenu pasalinimas\n",
        "df = df[['review_id', 'text', 'stars']]\n",
        "\n",
        "# Teksto paruošimo funkcija\n",
        "def clean_text(text):\n",
        "    text = text.lower()  # Lowercase\n",
        "    text = re.sub(r'[^\\w\\s]', '', text)  # Remove punctuation\n",
        "    text = re.sub(r'\\d+', '', text)  # Remove numbers\n",
        "    text = text.strip()\n",
        "    return text\n",
        "\n",
        "df['cleaned_text'] = df['text'].apply(clean_text)\n",
        "df.dropna(inplace=True)\n",
        "\n",
        "# Zvaigzduciu konvertavimas i sentimenta kur 1 (pozityvus atsiliepimas) jeigu 4 arba 5 zvaigzdes ir 0 jeigu maziau\n",
        "# Reikalinga modeliu mokymui\n",
        "df['sentiment'] = df['stars'].apply(lambda x: 1 if x >= 4 else 0 if x <= 2 else np.nan)\n",
        "df.dropna(subset=['sentiment'], inplace=True)\n",
        "y = df['sentiment']\n",
        "df = df[['review_id', 'cleaned_text', 'sentiment']]\n",
        "\n",
        "print(df.head())"
      ],
      "metadata": {
        "colab": {
          "base_uri": "https://localhost:8080/"
        },
        "id": "WmDzkbuExpFo",
        "outputId": "d7077427-9bd6-4ac8-febb-07d5f9893710"
      },
      "execution_count": 23,
      "outputs": [
        {
          "output_type": "stream",
          "name": "stdout",
          "text": [
            "                review_id                                       cleaned_text  \\\n",
            "0  fWKvX83p0-ka4JS3dc6E5A  my wife took me here on my birthday for breakf...   \n",
            "1  IjZ33sJrzXqU-0X6U8NwyA  i have no idea why some people give bad review...   \n",
            "2  IESLBzqUCLdSzSqm0eCSxQ  love the gyro plate rice is so good and i also...   \n",
            "3  G-WvGaISbqqaMHlNnByodA  rosie dakota and i love chaparral dog park its...   \n",
            "4  1uJFq2r5QfJG_6ExMRCaGw  general manager scott petello is a good egg no...   \n",
            "\n",
            "   sentiment  \n",
            "0        1.0  \n",
            "1        1.0  \n",
            "2        1.0  \n",
            "3        1.0  \n",
            "4        1.0  \n"
          ]
        }
      ]
    },
    {
      "cell_type": "code",
      "source": [
        "# TF-IDF vektorizavimas\n",
        "vectorizer = TfidfVectorizer(max_features=5000)\n",
        "X = vectorizer.fit_transform(df['cleaned_text']).toarray()"
      ],
      "metadata": {
        "id": "w_lEl4YVzHan"
      },
      "execution_count": 24,
      "outputs": []
    },
    {
      "cell_type": "code",
      "source": [
        "def train_test_split_with_indices(X, y, test_size=0.2, random_state=42):\n",
        "    X_train, X_test, y_train, y_test = train_test_split(X, y, test_size=test_size, random_state=random_state)\n",
        "    train_index, test_index = train_test_split(np.arange(len(X)), test_size=test_size, random_state=random_state)\n",
        "    return X_train, X_test, y_train, y_test, train_index, test_index\n",
        "\n",
        "# Duomenu padalinimas i mokymo ir testavimo rinkinius\n",
        "X_train, X_test, y_train, y_test, train_index, test_index = train_test_split_with_indices(X, y, test_size=0.2, random_state=42)\n",
        "\n",
        "# Modeliu inicializavimas\n",
        "models = {\n",
        "    'Logistic Regression': LogisticRegression(max_iter=1000),\n",
        "    'Random Forest': RandomForestClassifier(n_estimators=100),\n",
        "    'Neural Network': MLPClassifier(max_iter=300)\n",
        "}\n",
        "\n",
        "# Modeliu mokymas\n",
        "for name, model in models.items():\n",
        "    model.fit(X_train, y_train)\n",
        "    y_pred = model.predict(X_test)\n",
        "    print(f\"{name} - Accuracy: {accuracy_score(y_test, y_pred)}, Recall: {recall_score(y_test, y_pred)}, F1: {f1_score(y_test, y_pred)}\")\n",
        "\n",
        "    # Modelio issaugojimas\n",
        "    joblib.dump(model, f'{name.replace(\" \", \"_\").lower()}_model.pkl')"
      ],
      "metadata": {
        "colab": {
          "base_uri": "https://localhost:8080/"
        },
        "id": "AdD6wI1_0Aa0",
        "outputId": "8dedb858-01b8-4706-9e26-b30a13e1c604"
      },
      "execution_count": 25,
      "outputs": [
        {
          "output_type": "stream",
          "name": "stdout",
          "text": [
            "Logistic Regression - Accuracy: 0.8881733021077284, Recall: 0.9919117647058824, F1: 0.9338871581862236\n",
            "Random Forest - Accuracy: 0.8284543325526932, Recall: 0.9970588235294118, F1: 0.902495840266223\n",
            "Neural Network - Accuracy: 0.9104215456674473, Recall: 0.9647058823529412, F1: 0.9449045732805185\n"
          ]
        }
      ]
    },
    {
      "cell_type": "code",
      "source": [
        "# Paliginus apmokytus modelius geriausiai save parode neuroninis tinklas\n",
        "best_model = joblib.load('neural_network_model.pkl')\n",
        "\n",
        "# Sentimentu nustatymas testavimo atsiliepimuose\n",
        "df_test = df.iloc[test_index]\n",
        "df_test['predicted_sentiment'] = best_model.predict(X_test)\n",
        "\n",
        "# Funkcija, nustatanti kurie atsiliepimai reikalauja reakcijos\n",
        "# Yra galimybe nustatyti raktinius zodsius, kuriuos radus atsiliepimas taps reakcijos reikalaujanciu\n",
        "# Taip pat atsiliepimas taps reakcijos reikalaujanciu jeigu medelio atsiliepimo sentimento analizes rezultatas bus lygus 0.\n",
        "def identify_responses(review, predicted_sentiment):\n",
        "    keywords = ['urgent', 'complaint', 'issue', 'problem', 'bad', 'horrible', 'worst']\n",
        "    if predicted_sentiment == 0 or any(word in review for word in keywords):\n",
        "        return True\n",
        "    return False\n",
        "\n",
        "# Funkcijos iskvietimas\n",
        "df_test['needs_response'] = df_test.apply(lambda row: identify_responses(row['cleaned_text'], row['predicted_sentiment']), axis=1)\n",
        "\n",
        "# Reakcijos reikalaujanciu atsiliepimu isvedimas\n",
        "print(df_test[df_test['needs_response'] == True].head())"
      ],
      "metadata": {
        "colab": {
          "base_uri": "https://localhost:8080/"
        },
        "id": "LxxA6OXi1GW_",
        "outputId": "c2d2013d-b3ad-46eb-8a97-c93b6ddb1d42"
      },
      "execution_count": 26,
      "outputs": [
        {
          "output_type": "stream",
          "name": "stdout",
          "text": [
            "                   review_id  \\\n",
            "2486  fBh8nGMOjsZ1DOYQKNxfCQ   \n",
            "7261  _ya44j3weaEcU8z21jeRNw   \n",
            "5296  9yc5vhQCCPgHWPWcM72xJw   \n",
            "3473  jN-O8-qaVLIslx-dc_s-CA   \n",
            "733   BK4FpIlwDx2mAhk9qsK3sQ   \n",
            "\n",
            "                                           cleaned_text  sentiment  \\\n",
            "2486  f \\n\\nshe didnt even look at me didnt bother a...        0.0   \n",
            "7261  the bad the bar closes at pm  it seems like th...        1.0   \n",
            "5296  this place is essentially a copy of the old fa...        0.0   \n",
            "3473  skip the reviews that reference anything about...        1.0   \n",
            "733   bland and lackluster food that is not worth th...        0.0   \n",
            "\n",
            "      predicted_sentiment  needs_response  \n",
            "2486                  0.0            True  \n",
            "7261                  1.0            True  \n",
            "5296                  1.0            True  \n",
            "3473                  1.0            True  \n",
            "733                   0.0            True  \n"
          ]
        },
        {
          "output_type": "stream",
          "name": "stderr",
          "text": [
            "<ipython-input-26-a31e5eb7ec5b>:6: SettingWithCopyWarning: \n",
            "A value is trying to be set on a copy of a slice from a DataFrame.\n",
            "Try using .loc[row_indexer,col_indexer] = value instead\n",
            "\n",
            "See the caveats in the documentation: https://pandas.pydata.org/pandas-docs/stable/user_guide/indexing.html#returning-a-view-versus-a-copy\n",
            "  df_test['predicted_sentiment'] = best_model.predict(X_test)\n",
            "<ipython-input-26-a31e5eb7ec5b>:18: SettingWithCopyWarning: \n",
            "A value is trying to be set on a copy of a slice from a DataFrame.\n",
            "Try using .loc[row_indexer,col_indexer] = value instead\n",
            "\n",
            "See the caveats in the documentation: https://pandas.pydata.org/pandas-docs/stable/user_guide/indexing.html#returning-a-view-versus-a-copy\n",
            "  df_test['needs_response'] = df_test.apply(lambda row: identify_responses(row['cleaned_text'], row['predicted_sentiment']), axis=1)\n"
          ]
        }
      ]
    }
  ]
}